{
 "cells": [
  {
   "cell_type": "markdown",
   "id": "d33a7e8a",
   "metadata": {},
   "source": [
    "# KI Kongress 2025\n",
    "This is a mini example for the workshop \"yourAI: Einführung in den HSBI-Rechencluster für KI-Anwendungen\".\n",
    "Please make sure to run this in the respective environment with keras and tensorflow installed.\n"
   ]
  },
  {
   "cell_type": "code",
   "execution_count": null,
   "id": "cbdcb388",
   "metadata": {},
   "outputs": [],
   "source": [
    "import keras\n",
    "import numpy as np\n",
    "from keras.models import Sequential\n",
    "from keras.layers import Dense, MaxPooling2D, Dropout, Conv2D, Flatten\n",
    "import time"
   ]
  },
  {
   "cell_type": "markdown",
   "id": "b17e34f8",
   "metadata": {},
   "source": [
    "## Print Resources\n",
    "To check, whether a GPU is available, Tensorflow provides the following call:"
   ]
  },
  {
   "cell_type": "code",
   "execution_count": null,
   "id": "6d815a81",
   "metadata": {},
   "outputs": [],
   "source": [
    "import tensorflow as tf\n",
    "print(tf.config.list_physical_devices())"
   ]
  },
  {
   "cell_type": "markdown",
   "id": "0dc4710e",
   "metadata": {},
   "source": [
    "If this list contains any device of type 'GPU' the following will use the respective device.\n",
    "\n",
    "## Training a neural network for classifying MNIST\n",
    "First, we have to load the dataset..."
   ]
  },
  {
   "cell_type": "code",
   "execution_count": null,
   "id": "91c20b93",
   "metadata": {},
   "outputs": [],
   "source": [
    "(x_train, y_train), (x_test, y_test) = keras.datasets.mnist.load_data()\n",
    "\n",
    "# Rescale images to [0,1]\n",
    "x_train = x_train.astype(\"float32\") / 255\n",
    "x_test = x_test.astype(\"float32\") / 255\n",
    "\n",
    "x_train = np.expand_dims(x_train, -1)\n",
    "x_test = np.expand_dims(x_test, -1)\n",
    "\n",
    "y_train = keras.utils.to_categorical(y_train, 10)\n",
    "y_test = keras.utils.to_categorical(y_test, 10)\n"
   ]
  },
  {
   "cell_type": "markdown",
   "id": "b1daadc7",
   "metadata": {},
   "source": [
    "... before defining our network:"
   ]
  },
  {
   "cell_type": "code",
   "execution_count": null,
   "id": "2ede80ec",
   "metadata": {},
   "outputs": [],
   "source": [
    "network = Sequential([keras.Input(shape=(28, 28, 1)), \n",
    "                      Conv2D(32, (3, 3), activation=\"relu\"),\n",
    "                      MaxPooling2D((2, 2)),\n",
    "                      Conv2D(64, (3, 3), activation=\"relu\"),\n",
    "                      MaxPooling2D((2, 2)),\n",
    "                      Flatten(),\n",
    "                      Dense(128, activation=\"relu\"),\n",
    "                      Dropout(0.5),\n",
    "                      Dense(10, activation=\"softmax\")])\n",
    "network.summary()"
   ]
  },
  {
   "cell_type": "markdown",
   "id": "56e8f0d6",
   "metadata": {},
   "source": [
    "The next step contains the actual training. For comparison, we measure the full time for training.\n"
   ]
  },
  {
   "cell_type": "code",
   "execution_count": null,
   "id": "75f61efa",
   "metadata": {},
   "outputs": [],
   "source": [
    "network.compile(optimizer=\"adam\",\n",
    "                loss=\"categorical_crossentropy\",\n",
    "                metrics=[\"accuracy\"])\n",
    "t0 = time.time()\n",
    "history = network.fit(x_train, y_train, epochs=5, batch_size=64, validation_split=0.2)\n",
    "t1 = time.time()\n",
    "test_loss, test_acc = network.evaluate(x_test, y_test)\n",
    "print(f\"Test accuracy: {test_acc:.4f}\")\n",
    "print(f\"Training time: {t1 - t0:.2f} seconds\")"
   ]
  },
  {
   "cell_type": "markdown",
   "id": "5035f34b",
   "metadata": {},
   "source": [
    "Finally, we visualize the training history."
   ]
  },
  {
   "cell_type": "code",
   "execution_count": null,
   "id": "8a942007",
   "metadata": {},
   "outputs": [],
   "source": [
    "import matplotlib.pyplot as plt\n",
    "plt.plot(history.history['accuracy'], label='accuracy')\n",
    "plt.plot(history.history['val_accuracy'], label = 'val_accuracy')\n",
    "plt.xlabel('Epoch')\n",
    "plt.legend([\"Training\", \"Testing\"], loc=\"upper left\")"
   ]
  }
 ],
 "metadata": {
  "kernelspec": {
   "display_name": "Python 3",
   "language": "python",
   "name": "python3"
  },
  "language_info": {
   "codemirror_mode": {
    "name": "ipython",
    "version": 3
   },
   "file_extension": ".py",
   "mimetype": "text/x-python",
   "name": "python",
   "nbconvert_exporter": "python",
   "pygments_lexer": "ipython3",
   "version": "3.11.8"
  }
 },
 "nbformat": 4,
 "nbformat_minor": 5
}
